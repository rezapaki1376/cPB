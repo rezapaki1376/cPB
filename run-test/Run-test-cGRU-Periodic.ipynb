{
 "cells": [
  {
   "cell_type": "code",
   "execution_count": 1,
   "metadata": {},
   "outputs": [],
   "source": [
    "import os\n",
    "import sys\n",
    "os.chdir('..')\n",
    "sys.path.append(os.getcwd())"
   ]
  },
  {
   "cell_type": "code",
   "execution_count": 2,
   "metadata": {},
   "outputs": [],
   "source": [
    "from Models.pretrain import *\n",
    "from Models.cPB import cPB\n",
    "import torch.nn.functional as F\n",
    "import pandas as pd\n",
    "from Models.cGRU_Model import cGRU\n",
    "import pickle\n",
    "import warnings\n",
    "\n",
    "warnings.filterwarnings(\"ignore\", category=FutureWarning, module='torch.storage')\n",
    "warnings.filterwarnings(\"ignore\", category=UserWarning, module='torch.storage')\n",
    "warnings.filterwarnings(\"ignore\", category=DeprecationWarning, module='torch.storage')"
   ]
  },
  {
   "cell_type": "markdown",
   "metadata": {},
   "source": [
    "# SINE datasets"
   ]
  },
  {
   "cell_type": "markdown",
   "metadata": {},
   "source": [
    "## Executable code:\n"
   ]
  },
  {
   "cell_type": "code",
   "execution_count": null,
   "metadata": {},
   "outputs": [],
   "source": [
    "for iter in range(1, 11):\n",
    "    ###### Config the parameters ###### \n",
    "    base_model = 'GRU'\n",
    "    batch_size = 128\n",
    "    hidden_size = 50\n",
    "    seq_len = 10\n",
    "    epoch_size = 10\n",
    "    lr = 0.01\n",
    "    number_of_tasks = 4\n",
    "    input_size = 2\n",
    "    iteration = iter\n",
    "    dataset = 'SINE'\n",
    "    dataset_name = \"sine_rw10_mode5_extended_16-16_1234\"\n",
    "    Pretrain_task = '1'\n",
    "    output_size = 2\n",
    "    ###### End of Config ######\n",
    "    df = pd.read_csv(os.path.join(f\"datasets/{dataset}/\", f\"{dataset_name}.csv\"))\n",
    "    pretrain_model_addr = f'Performance/Pretrain/{base_model}/{dataset}/Before/{dataset}-Task_{Pretrain_task}-{base_model}-pretrain-hidden{hidden_size}-epoch10_iter{iteration}.pickle'\n",
    "\n",
    "    # Initialize cGRU model\n",
    "    model = cGRU(lr=lr, hidden_size=hidden_size, seq_len=seq_len, \n",
    "                 pretrain_model_addr=pretrain_model_addr, input_size=input_size, \n",
    "                 epoch_size=epoch_size, batch_first=True, output_size = output_size)\n",
    "\n",
    "\n",
    "    for task in range(1, df[\"task\"].max() + 1):\n",
    "        df_task = df[df[\"task\"] == task]\n",
    "        df_task = df_task.drop(columns=\"task\")\n",
    "        batch_cont = 0\n",
    "\n",
    "        for i in range(0, len(df_task), batch_size):\n",
    "            x = df_task.iloc[i: i + batch_size, :-1].values.astype(np.float32)\n",
    "            y = list(df_task.iloc[i: i + batch_size, -1])\n",
    "\n",
    "            model.predict_many(x, y, task_number=task)\n",
    "            model.learn_many(x, y)\n",
    "            batch_cont += 1\n",
    "            \n",
    "\n",
    "        model.save_final_metrics(task)\n",
    "\n",
    "    file_path = f'Performance/Results/cGRU/Periodic/{dataset}/pretrain_T{Pretrain_task}_{base_model}-{dataset_name}-hidden{hidden_size}-epoch10-iter{iteration}_periodic.pkl'\n",
    "    with open(file_path, 'wb') as file:\n",
    "        pickle.dump(model.performance, file)\n",
    "        \n",
    "    with open(f\"Performance/Final Models/cGRU/{base_model}/{dataset}/Periodic/{dataset_name}-{base_model}-hidden{hidden_size}-epoch10-iter{iteration}.pickle\", \"wb\") as fp:\n",
    "        pickle.dump(model.model.state_dict(), fp)\n",
    "\n",
    "\n",
    "    print(f'Iteration {iteration} finished')\n"
   ]
  },
  {
   "cell_type": "markdown",
   "metadata": {},
   "source": [
    "# Weather datasets"
   ]
  },
  {
   "cell_type": "markdown",
   "metadata": {},
   "source": [
    "## Executable code:\n"
   ]
  },
  {
   "cell_type": "code",
   "execution_count": null,
   "metadata": {},
   "outputs": [],
   "source": [
    "for iter in range(1, 11):\n",
    "    ###### Config the parameters ###### \n",
    "    base_model = 'GRU'\n",
    "    batch_size = 128\n",
    "    hidden_size = 250\n",
    "    seq_len = 11\n",
    "    epoch_size = 10\n",
    "    lr = 0.01\n",
    "    number_of_tasks = 4\n",
    "    mask_selection_NofBatch = 50\n",
    "    input_size = 4\n",
    "    iteration = iter\n",
    "    dataset = 'Weather'\n",
    "    dataset_name = \"weather_st124_1conf\"\n",
    "    Pretrain_task = '1'\n",
    "    output_size = 2\n",
    "    ####### End of Config ######\n",
    "    df = pd.read_csv(os.path.join(f\"datasets/{dataset}/\", f\"{dataset_name}.csv\"))\n",
    "    pretrain_model_addr = f'Performance/Pretrain/{base_model}/{dataset}/Before/{dataset}-{base_model}-pretrain-hidden{hidden_size}-epoch10_itter{iteration}.pickle'\n",
    "\n",
    "    # Initialize cGRU model\n",
    "    model = cGRU(lr=lr, hidden_size=hidden_size, seq_len=seq_len, \n",
    "                 pretrain_model_addr=pretrain_model_addr, input_size=input_size, \n",
    "                 epoch_size=epoch_size, batch_first=True, output_size = output_size)\n",
    "\n",
    "\n",
    "    for task in range(1, df[\"task\"].max() + 1):\n",
    "        df_task = df[df[\"task\"] == task]\n",
    "        df_task = df_task.drop(columns=\"task\")\n",
    "        batch_cont = 0\n",
    "\n",
    "        for i in range(0, len(df_task), batch_size):\n",
    "            x = df_task.iloc[i: i + batch_size, :-1].values.astype(np.float32)\n",
    "            y = list(df_task.iloc[i: i + batch_size, -1])\n",
    "\n",
    "            model.predict_many(x, y, task_number=task)\n",
    "            model.learn_many(x, y)\n",
    "            batch_cont += 1\n",
    "\n",
    "        model.save_final_metrics(task)\n",
    "\n",
    "    file_path = f'Performance/Results/cGRU/Periodic/{dataset}/pretrain_T{Pretrain_task}_{base_model}-{dataset_name}-hidden{hidden_size}-epoch10-iter{iteration}_periodic.pkl'\n",
    "    with open(file_path, 'wb') as file:\n",
    "        pickle.dump(model.performance, file)\n",
    "        \n",
    "    with open(f\"Performance/Final Models/cGRU/{base_model}/{dataset}/Periodic/{dataset_name}-{base_model}-hidden{hidden_size}-epoch10-iter{iteration}.pickle\", \"wb\") as fp:\n",
    "        pickle.dump(model.model.state_dict(), fp)\n",
    "\n",
    "    print(f'Iteration {iteration} finished')\n"
   ]
  }
 ],
 "metadata": {
  "colab": {
   "authorship_tag": "ABX9TyM82h1t6isZ5UsHdGaHl7jp",
   "provenance": []
  },
  "kernelspec": {
   "display_name": "CPB",
   "language": "python",
   "name": "python3"
  },
  "language_info": {
   "codemirror_mode": {
    "name": "ipython",
    "version": 3
   },
   "file_extension": ".py",
   "mimetype": "text/x-python",
   "name": "python",
   "nbconvert_exporter": "python",
   "pygments_lexer": "ipython3",
   "version": "3.11.10"
  }
 },
 "nbformat": 4,
 "nbformat_minor": 0
}
