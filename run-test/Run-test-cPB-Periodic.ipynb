{
 "cells": [
  {
   "cell_type": "code",
   "execution_count": 1,
   "metadata": {},
   "outputs": [],
   "source": [
    "import os\n",
    "import sys\n",
    "os.chdir('..')\n",
    "sys.path.append(os.getcwd())"
   ]
  },
  {
   "cell_type": "code",
   "execution_count": 2,
   "metadata": {},
   "outputs": [],
   "source": [
    "import torch\n",
    "from Models.pretrain import *\n",
    "from Models.cPB import cPB\n",
    "import torch.nn.functional as F\n",
    "import numpy as np\n",
    "import pandas as pd\n",
    "import pickle\n",
    "import argparse\n",
    "from torch.autograd import Variable\n",
    "import pprint\n",
    "import copy\n",
    "import warnings\n",
    "warnings.filterwarnings(\"ignore\", category=FutureWarning, module='torch.storage')\n",
    "warnings.filterwarnings(\"ignore\", category=UserWarning, module='torch.storage')\n",
    "warnings.filterwarnings(\"ignore\", category=DeprecationWarning, module='torch.storage')"
   ]
  },
  {
   "cell_type": "markdown",
   "metadata": {},
   "source": [
    "# SINE datasets\n"
   ]
  },
  {
   "cell_type": "markdown",
   "metadata": {},
   "source": [
    "## CONFIGURATION:\n"
   ]
  },
  {
   "cell_type": "code",
   "execution_count": 3,
   "metadata": {},
   "outputs": [],
   "source": [
    "base_model = 'GRU'\n",
    "batch_size = 128\n",
    "hidden_size = 250\n",
    "seq_len = 10\n",
    "epoch_size=10\n",
    "lr = 0.01\n",
    "number_of_tasks=4\n",
    "mask_selection_NofBatch = 50\n",
    "input_size=2\n",
    "iteration=1\n",
    "mask_init='uniform'\n",
    "dataset='SINE'\n",
    "dataset_name = \"sine_rw10_mode5_extended_16-16_1234\"\n",
    "Pretrain_task = '1'\n",
    "\n",
    "df = pd.read_csv(os.path.join(f\"datasets/{dataset}/\", f\"{dataset_name}.csv\"))\n",
    "pretrain_model_addr=f'Performance/Pretrain/GRU/{dataset}/After/sine-6_6-1234-t{Pretrain_task}-{base_model}-pretrain-hidden{hidden_size}-epoch10_itter{iteration}.pickle'\n",
    "mask_weights=[] #if we have initial masks then reload it here\n",
    "\n"
   ]
  },
  {
   "cell_type": "markdown",
   "metadata": {},
   "source": [
    "## Executable code:\n"
   ]
  },
  {
   "cell_type": "code",
   "execution_count": null,
   "metadata": {},
   "outputs": [],
   "source": [
    "model=cPB(lr = lr ,hidden_size=hidden_size, seq_len=seq_len,base_model=base_model, pretrain_model_addr=pretrain_model_addr,\n",
    "           mask_weights=mask_weights, mask_init=mask_init, number_of_tasks=number_of_tasks,epoch_size=epoch_size,input_size=input_size)\n",
    "\n",
    "\n",
    "for iter in range(0,iteration):\n",
    "  # loop for each task\n",
    "  for task in range(1, df[\"task\"].max() + 1):\n",
    "    df_task = df[df[\"task\"] == task]\n",
    "    df_task = df_task.drop(columns=\"task\")\n",
    "    # loop based on each batch of data\n",
    "    batch_cont=0\n",
    "    model.weights_copy(task)\n",
    "    for i in range(0, len(df_task), batch_size):\n",
    "      x = df_task.iloc[i : i + batch_size, 0:-1].values.astype(np.float32)\n",
    "      y = list(df_task.iloc[i : i + batch_size, -1])\n",
    "      if batch_cont<mask_selection_NofBatch:\n",
    "        for mask_index in range (0, task):\n",
    "          model.predict_many(x,y,mask_index,task,mask_selection=True)\n",
    "          model.learn_many(x,y,mask_index)\n",
    "        batch_cont+=1\n",
    "      elif batch_cont==mask_selection_NofBatch:\n",
    "        best_mask_index=model.add_new_column(task)\n",
    "        model.predict_many(x,y,best_mask_index,task,mask_selection=False)\n",
    "        model.learn_many(x,y,best_mask_index)\n",
    "        batch_cont+=1\n",
    "      elif batch_cont>mask_selection_NofBatch:\n",
    "        batch_cont+=1\n",
    "        model.predict_many(x,y,best_mask_index,task,mask_selection=False)\n",
    "        model.learn_many(x,y,best_mask_index)\n",
    "    model.save_final_metrics(task,best_mask_index)\n",
    "    model.final_weights_saving()\n",
    "  model.plotting()\n",
    "\n",
    "\n",
    "file_path = f'Performance/Results/cPB/{dataset}/Periodic/pretrain-T{Pretrain_task}_{base_model}-{dataset_name}-hidden{hidden_size}-epoch10_iter{iteration}.pkl'\n",
    "with open(file_path, 'wb') as file:\n",
    "    pickle.dump(model.performance, file)\n",
    "\n",
    "file_path = f'Performance/Results/cPB/{dataset}/Periodic/pretrain-T{Pretrain_task}_{base_model}-{dataset_name}-hidden{hidden_size}-epoch10_iter{iteration}_selectedMask.pkl'\n",
    "with open(file_path, 'wb') as file:\n",
    "    pickle.dump(model.selected_mask_index, file)\n"
   ]
  },
  {
   "cell_type": "markdown",
   "metadata": {
    "id": "Q3SOVmoXDVKd"
   },
   "source": [
    "# Weather datasets\n"
   ]
  },
  {
   "cell_type": "markdown",
   "metadata": {},
   "source": [
    "## CONFIGURATION:\n"
   ]
  },
  {
   "cell_type": "code",
   "execution_count": 6,
   "metadata": {},
   "outputs": [],
   "source": [
    "base_model = 'GRU'\n",
    "batch_size = 128\n",
    "hidden_size = 250\n",
    "seq_len = 11\n",
    "epoch_size=10\n",
    "lr = 0.01\n",
    "number_of_tasks=4\n",
    "mask_selection_NofBatch = 50\n",
    "input_size=4\n",
    "iteration=1\n",
    "mask_init='uniform'\n",
    "dataset='Weather'\n",
    "dataset_name = \"weather_st124_4conf\"\n",
    "Pretrain_task = '1'\n",
    "\n",
    "df = pd.read_csv(os.path.join(f\"datasets/{dataset}/\", f\"{dataset_name}.csv\"))\n",
    "pretrain_model_addr=f'Performance/Pretrain/GRU/{dataset}/After/weather-{base_model}-pretrain-hidden{hidden_size}-epoch10_itter{iteration}.pickle'\n",
    "mask_weights=[] #if we have initial masks then reload it here\n",
    "\n"
   ]
  },
  {
   "cell_type": "markdown",
   "metadata": {},
   "source": [
    "## Executable code:\n"
   ]
  },
  {
   "cell_type": "code",
   "execution_count": null,
   "metadata": {},
   "outputs": [],
   "source": [
    "model=cPB(lr = lr ,hidden_size=hidden_size, seq_len=seq_len,base_model=base_model, pretrain_model_addr=pretrain_model_addr,\n",
    "           mask_weights=mask_weights, mask_init=mask_init, number_of_tasks=number_of_tasks,epoch_size=epoch_size,input_size=input_size)\n",
    "\n",
    "\n",
    "for iter in range(0,iteration):\n",
    "  # loop for each task\n",
    "  for task in range(1, df[\"task\"].max() + 1):\n",
    "    df_task = df[df[\"task\"] == task]\n",
    "    df_task = df_task.drop(columns=\"task\")\n",
    "    # loop based on each batch of data\n",
    "    batch_cont=0\n",
    "    model.weights_copy(task)\n",
    "    for i in range(0, len(df_task), batch_size):\n",
    "      x = df_task.iloc[i : i + batch_size, 0:-1].values.astype(np.float32)\n",
    "      y = list(df_task.iloc[i : i + batch_size, -1])\n",
    "      if batch_cont<mask_selection_NofBatch:\n",
    "        for mask_index in range (0, task):\n",
    "          model.predict_many(x,y,mask_index,task,mask_selection=True)\n",
    "          model.learn_many(x,y,mask_index)\n",
    "        batch_cont+=1\n",
    "      elif batch_cont==mask_selection_NofBatch:\n",
    "        best_mask_index=model.add_new_column(task)\n",
    "        model.predict_many(x,y,best_mask_index,task,mask_selection=False)\n",
    "        model.learn_many(x,y,best_mask_index)\n",
    "        batch_cont+=1\n",
    "      elif batch_cont>mask_selection_NofBatch:\n",
    "        batch_cont+=1\n",
    "        model.predict_many(x,y,best_mask_index,task,mask_selection=False)\n",
    "        model.learn_many(x,y,best_mask_index)\n",
    "    model.save_final_metrics(task,best_mask_index)\n",
    "    model.final_weights_saving()\n",
    "  model.plotting()\n",
    "\n",
    "\n",
    "file_path = f'Performance/Results/cPB/{dataset}/Periodic/pretrain-T{Pretrain_task}_{base_model}-{dataset_name}-hidden{hidden_size}-epoch10_iter{iteration}.pkl'\n",
    "with open(file_path, 'wb') as file:\n",
    "    pickle.dump(model.performance, file)\n",
    "\n",
    "file_path = f'Performance/Results/cPB/{dataset}/Periodic/pretrain-T{Pretrain_task}_{base_model}-{dataset_name}-hidden{hidden_size}-epoch10_iter{iteration}_selectedMask.pkl'\n",
    "with open(file_path, 'wb') as file:\n",
    "    pickle.dump(model.selected_mask_index, file)\n"
   ]
  }
 ],
 "metadata": {
  "colab": {
   "authorship_tag": "ABX9TyM82h1t6isZ5UsHdGaHl7jp",
   "provenance": []
  },
  "kernelspec": {
   "display_name": "CPB",
   "language": "python",
   "name": "python3"
  },
  "language_info": {
   "codemirror_mode": {
    "name": "ipython",
    "version": 3
   },
   "file_extension": ".py",
   "mimetype": "text/x-python",
   "name": "python",
   "nbconvert_exporter": "python",
   "pygments_lexer": "ipython3",
   "version": "3.11.10"
  }
 },
 "nbformat": 4,
 "nbformat_minor": 0
}
